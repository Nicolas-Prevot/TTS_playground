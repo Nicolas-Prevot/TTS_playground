{
 "cells": [
  {
   "cell_type": "code",
   "execution_count": null,
   "metadata": {},
   "outputs": [],
   "source": [
    "import torch, librosa\n",
    "import soundfile as sf\n",
    "from scipy.io.wavfile import write as write_wav"
   ]
  },
  {
   "cell_type": "code",
   "execution_count": null,
   "metadata": {},
   "outputs": [],
   "source": [
    "mars5, config_class = torch.hub.load('Camb-ai/mars5-tts', 'mars5_english', trust_repo=True)"
   ]
  },
  {
   "cell_type": "code",
   "execution_count": null,
   "metadata": {},
   "outputs": [],
   "source": [
    "mars5.sr"
   ]
  },
  {
   "cell_type": "code",
   "execution_count": null,
   "metadata": {},
   "outputs": [],
   "source": [
    "wav, sr = librosa.load('../data/test2.wav',sr=mars5.sr, mono=True)\n",
    "wav = torch.from_numpy(wav)\n",
    "ref_transcript = \"Exploring the ancient ruins, they stumbled upon a hidden chamber, revealing artifacts that shed new light on a forgotten civilization.\"  # \"Bonjour tout le monde, je m'appelle Nicolas et je suis ici pour vous parler de mon nouveau papier\""
   ]
  },
  {
   "cell_type": "code",
   "execution_count": null,
   "metadata": {},
   "outputs": [],
   "source": [
    "deep_clone = True\n",
    "# Below you can tune other inference settings, like top_k, temperature, top_p, etc...\n",
    "cfg = config_class(deep_clone=deep_clone, rep_penalty_window=100, top_k=100, temperature=0.7, freq_penalty=3)\n",
    "\n",
    "ar_codes, output_audio = mars5.tts(\"The old sage imparted his wisdom to the young seeker, teaching that true knowledge comes not from books but from life’s experiences.\", wav, ref_transcript, cfg=cfg)"
   ]
  },
  {
   "cell_type": "code",
   "execution_count": null,
   "metadata": {},
   "outputs": [],
   "source": [
    "sf.write('../data/output_audio2.wav', output_audio.numpy(), mars5.sr)"
   ]
  },
  {
   "cell_type": "code",
   "execution_count": null,
   "metadata": {},
   "outputs": [],
   "source": []
  },
  {
   "cell_type": "code",
   "execution_count": null,
   "metadata": {},
   "outputs": [],
   "source": [
    "sentences = {\n",
    "    # \"Discovery\": \"Exploring the ancient ruins, they stumbled upon a hidden chamber, revealing artifacts that shed new light on a forgotten civilization.\",\n",
    "    \"Adventure\": \"Embarking on a journey through dense forests and treacherous mountains, they discovered the true meaning of friendship and perseverance.\",\n",
    "    \"Innovation\": \"The scientist’s groundbreaking invention promised to revolutionize renewable energy, offering a sustainable future for generations to come.\",\n",
    "    \"Mystery\": \"In the heart of the city, a series of strange events unfolded, leaving detectives puzzled and residents in fear of the unknown.\",\n",
    "    \"Courage\": \"Facing insurmountable odds, the small village banded together, showing incredible bravery in the face of a powerful and relentless enemy.\",\n",
    "    \"Betrayal\": \"Trust shattered, he realized his closest ally had been deceiving him all along, leading to a confrontation that would change everything.\",\n",
    "    \"Hope\": \"Amidst the chaos and destruction, a single act of kindness sparked a glimmer of hope, inspiring others to believe in a better tomorrow.\",\n",
    "    \"Transformation\": \"The caterpillar’s journey to become a butterfly mirrored her own transformation, finding strength and beauty in unexpected places.\",\n",
    "    \"Wisdom\": \"The old sage imparted his wisdom to the young seeker, teaching that true knowledge comes not from books but from life’s experiences.\",\n",
    "    \"Victory\": \"Against all expectations, the underdog team triumphed in the championship, their hard work and determination finally paying off.\"\n",
    "}"
   ]
  },
  {
   "cell_type": "code",
   "execution_count": null,
   "metadata": {},
   "outputs": [],
   "source": [
    "for title, text in sentences.items():\n",
    "    ar_codes, output_audio = mars5.tts(text, wav, ref_transcript, cfg=cfg)\n",
    "    filename = f\"../data/{title}.wav\"\n",
    "    sf.write(filename, output_audio.numpy(), 24000)\n",
    "    print(f\"Saved audio for '{title}' as {filename}\")"
   ]
  }
 ],
 "metadata": {
  "kernelspec": {
   "display_name": "tts_tuto",
   "language": "python",
   "name": "python3"
  },
  "language_info": {
   "codemirror_mode": {
    "name": "ipython",
    "version": 3
   },
   "file_extension": ".py",
   "mimetype": "text/x-python",
   "name": "python",
   "nbconvert_exporter": "python",
   "pygments_lexer": "ipython3",
   "version": "3.12.4"
  }
 },
 "nbformat": 4,
 "nbformat_minor": 2
}
